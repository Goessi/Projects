{
 "cells": [
  {
   "cell_type": "code",
   "execution_count": 1,
   "metadata": {
    "collapsed": false
   },
   "outputs": [
    {
     "data": {
      "text/html": [
       "<div>\n",
       "<table border=\"1\" class=\"dataframe\">\n",
       "  <thead>\n",
       "    <tr style=\"text-align: right;\">\n",
       "      <th></th>\n",
       "      <th>Show Number</th>\n",
       "      <th>Air Date</th>\n",
       "      <th>Round</th>\n",
       "      <th>Category</th>\n",
       "      <th>Value</th>\n",
       "      <th>Question</th>\n",
       "      <th>Answer</th>\n",
       "    </tr>\n",
       "  </thead>\n",
       "  <tbody>\n",
       "    <tr>\n",
       "      <th>0</th>\n",
       "      <td>4680</td>\n",
       "      <td>2004-12-31</td>\n",
       "      <td>Jeopardy!</td>\n",
       "      <td>HISTORY</td>\n",
       "      <td>$200</td>\n",
       "      <td>For the last 8 years of his life, Galileo was ...</td>\n",
       "      <td>Copernicus</td>\n",
       "    </tr>\n",
       "    <tr>\n",
       "      <th>1</th>\n",
       "      <td>4680</td>\n",
       "      <td>2004-12-31</td>\n",
       "      <td>Jeopardy!</td>\n",
       "      <td>ESPN's TOP 10 ALL-TIME ATHLETES</td>\n",
       "      <td>$200</td>\n",
       "      <td>No. 2: 1912 Olympian; football star at Carlisl...</td>\n",
       "      <td>Jim Thorpe</td>\n",
       "    </tr>\n",
       "    <tr>\n",
       "      <th>2</th>\n",
       "      <td>4680</td>\n",
       "      <td>2004-12-31</td>\n",
       "      <td>Jeopardy!</td>\n",
       "      <td>EVERYBODY TALKS ABOUT IT...</td>\n",
       "      <td>$200</td>\n",
       "      <td>The city of Yuma in this state has a record av...</td>\n",
       "      <td>Arizona</td>\n",
       "    </tr>\n",
       "    <tr>\n",
       "      <th>3</th>\n",
       "      <td>4680</td>\n",
       "      <td>2004-12-31</td>\n",
       "      <td>Jeopardy!</td>\n",
       "      <td>THE COMPANY LINE</td>\n",
       "      <td>$200</td>\n",
       "      <td>In 1963, live on \"The Art Linkletter Show\", th...</td>\n",
       "      <td>McDonald's</td>\n",
       "    </tr>\n",
       "    <tr>\n",
       "      <th>4</th>\n",
       "      <td>4680</td>\n",
       "      <td>2004-12-31</td>\n",
       "      <td>Jeopardy!</td>\n",
       "      <td>EPITAPHS &amp; TRIBUTES</td>\n",
       "      <td>$200</td>\n",
       "      <td>Signer of the Dec. of Indep., framer of the Co...</td>\n",
       "      <td>John Adams</td>\n",
       "    </tr>\n",
       "  </tbody>\n",
       "</table>\n",
       "</div>"
      ],
      "text/plain": [
       "   Show Number    Air Date      Round                         Category  Value  \\\n",
       "0         4680  2004-12-31  Jeopardy!                          HISTORY   $200   \n",
       "1         4680  2004-12-31  Jeopardy!  ESPN's TOP 10 ALL-TIME ATHLETES   $200   \n",
       "2         4680  2004-12-31  Jeopardy!      EVERYBODY TALKS ABOUT IT...   $200   \n",
       "3         4680  2004-12-31  Jeopardy!                 THE COMPANY LINE   $200   \n",
       "4         4680  2004-12-31  Jeopardy!              EPITAPHS & TRIBUTES   $200   \n",
       "\n",
       "                                            Question      Answer  \n",
       "0  For the last 8 years of his life, Galileo was ...  Copernicus  \n",
       "1  No. 2: 1912 Olympian; football star at Carlisl...  Jim Thorpe  \n",
       "2  The city of Yuma in this state has a record av...     Arizona  \n",
       "3  In 1963, live on \"The Art Linkletter Show\", th...  McDonald's  \n",
       "4  Signer of the Dec. of Indep., framer of the Co...  John Adams  "
      ]
     },
     "execution_count": 1,
     "metadata": {},
     "output_type": "execute_result"
    }
   ],
   "source": [
    "import pandas as pd\n",
    "import numpy as np\n",
    "jeopardy = pd.read_csv('jeopardy.csv')\n",
    "jeopardy.head()"
   ]
  },
  {
   "cell_type": "code",
   "execution_count": 2,
   "metadata": {
    "collapsed": false
   },
   "outputs": [
    {
     "data": {
      "text/plain": [
       "Index(['Show Number', ' Air Date', ' Round', ' Category', ' Value',\n",
       "       ' Question', ' Answer'],\n",
       "      dtype='object')"
      ]
     },
     "execution_count": 2,
     "metadata": {},
     "output_type": "execute_result"
    }
   ],
   "source": [
    "jeopardy.columns"
   ]
  },
  {
   "cell_type": "code",
   "execution_count": 3,
   "metadata": {
    "collapsed": true
   },
   "outputs": [],
   "source": [
    "jeopardy.columns = ['Show Number','Air Date','Round','Category','Value','Question','Answer']"
   ]
  },
  {
   "cell_type": "code",
   "execution_count": 4,
   "metadata": {
    "collapsed": false
   },
   "outputs": [
    {
     "data": {
      "text/plain": [
       "Index(['Show Number', 'Air Date', 'Round', 'Category', 'Value', 'Question',\n",
       "       'Answer'],\n",
       "      dtype='object')"
      ]
     },
     "execution_count": 4,
     "metadata": {},
     "output_type": "execute_result"
    }
   ],
   "source": [
    "jeopardy.columns"
   ]
  },
  {
   "cell_type": "code",
   "execution_count": 15,
   "metadata": {
    "collapsed": false
   },
   "outputs": [],
   "source": [
    "import re\n",
    "def nor_cha(text):\n",
    "    text = text.lower()\n",
    "    text = re.sub(\"[^A-Za-z0-9\\s]\",\"\",text)\n",
    "    return text"
   ]
  },
  {
   "cell_type": "code",
   "execution_count": 16,
   "metadata": {
    "collapsed": false
   },
   "outputs": [],
   "source": [
    "clean_question = jeopardy['Question'].apply(nor_cha)"
   ]
  },
  {
   "cell_type": "code",
   "execution_count": 17,
   "metadata": {
    "collapsed": false
   },
   "outputs": [
    {
     "data": {
      "text/plain": [
       "0        for the last 8 years of his life galileo was u...\n",
       "1        no 2 1912 olympian football star at carlisle i...\n",
       "2        the city of yuma in this state has a record av...\n",
       "3        in 1963 live on the art linkletter show this c...\n",
       "4        signer of the dec of indep framer of the const...\n",
       "5        in the title of an aesop fable this insect sha...\n",
       "6        built in 312 bc to link rome  the south of ita...\n",
       "7        no 8 30 steals for the birmingham barons 2306 ...\n",
       "8        in the winter of 197172 a record 1122 inches o...\n",
       "9        this housewares store was named for the packag...\n",
       "10                                          and away we go\n",
       "11       cows regurgitate this from the first stomach t...\n",
       "12       in 1000 rajaraja i of the cholas battled to ta...\n",
       "13       no 1 lettered in hoops football  lacrosse at s...\n",
       "14       on june 28 1994 the natl weather service began...\n",
       "15       this companys accutron watch introduced in 196...\n",
       "16       outlaw murdered by a traitor and a coward whos...\n",
       "17       a small demon or a mischievous child who might...\n",
       "18       karl led the first of these marxist organizati...\n",
       "19       no 10 fblb for columbia u in the 1920s mvp for...\n",
       "20       africas lowest temperature was 11 degrees belo...\n",
       "21       edward teller  this man partnered in 1898 to s...\n",
       "22       1939 oscar winner you are a credit to your cra...\n",
       "23       in geologic time one of these shorter than an ...\n",
       "24       this asian political party was founded in 1885...\n",
       "25       no 5 only center to lead the nba in assists tr...\n",
       "26       the kirschner brothers don  bill named this sk...\n",
       "27       revolutionary war hero his spirit is in vermon...\n",
       "28       a single layer of paper or to perform ones cra...\n",
       "29       a hrefhttpwwwjarchivecommedia20041231dj23mp3be...\n",
       "                               ...                        \n",
       "19969    in 1960 the last of these locomotives was reti...\n",
       "19970    kate if i be waspish best beware my sting his ...\n",
       "19971    this private college in northern california bo...\n",
       "19972    she voiced princess pea in the tale of despere...\n",
       "19973    its the name of the longawaited new white hous...\n",
       "19974    langdon in angels  demons is looking for a hre...\n",
       "19975    in the 1600s most of new york state was occupi...\n",
       "19976                marinas dad need a hint he rules tyre\n",
       "19977    presidential kids are welcome at this new orle...\n",
       "19978    she didnt vamp it up  did a bella job as em in...\n",
       "19979    third syllable intoned by the giant who smells...\n",
       "19980    much of angels  demons takes place at one of a...\n",
       "19981    in 1899 secretary of state john hay proclaimed...\n",
       "19982    fruity surname of peter in a midsummer nights ...\n",
       "19983    quincy jones kevin eubanks  branford marsalis ...\n",
       "19984    in 2009 she returned to being fast  furious as...\n",
       "19985    the book of genesis says this ancient city of ...\n",
       "19986    habakkuk and the angel is one of a series of a...\n",
       "19987    in medieval england it meant the smallest unit...\n",
       "19988    this texas city is the largest in the us to ha...\n",
       "19989                                         the crickets\n",
       "19990    in the 990s this son of erik the red brought c...\n",
       "19991    concerning a failed windows 98 demonstration h...\n",
       "19992    this llama product is used to make hats blanke...\n",
       "19993    in 1967 this company introduced its chocolatec...\n",
       "19994    of 8 12 or 18 the number of us states that tou...\n",
       "19995                             the new power generation\n",
       "19996    in 1589 he was appointed professor of mathemat...\n",
       "19997    before the grand jury she said im really sorry...\n",
       "19998    llamas are the heftiest south american members...\n",
       "Name: Question, dtype: object"
      ]
     },
     "execution_count": 17,
     "metadata": {},
     "output_type": "execute_result"
    }
   ],
   "source": [
    "clean_question"
   ]
  },
  {
   "cell_type": "code",
   "execution_count": 18,
   "metadata": {
    "collapsed": true
   },
   "outputs": [],
   "source": [
    "def nor_do(text):\n",
    "    text = re.sub(\"[^A-Za-z0-9]\",\"\",text)\n",
    "    try:\n",
    "        text = int(text)\n",
    "    except Exception:\n",
    "        text = 0\n",
    "    return text"
   ]
  },
  {
   "cell_type": "code",
   "execution_count": 71,
   "metadata": {
    "collapsed": true
   },
   "outputs": [],
   "source": [
    "jeopardy['clean_value'] = jeopardy['Value'].apply(nor_do)"
   ]
  },
  {
   "cell_type": "code",
   "execution_count": 72,
   "metadata": {
    "collapsed": false
   },
   "outputs": [
    {
     "data": {
      "text/plain": [
       "0         200\n",
       "1         200\n",
       "2         200\n",
       "3         200\n",
       "4         200\n",
       "5         200\n",
       "6         400\n",
       "7         400\n",
       "8         400\n",
       "9         400\n",
       "10        400\n",
       "11        400\n",
       "12        600\n",
       "13        600\n",
       "14        600\n",
       "15        600\n",
       "16        600\n",
       "17        600\n",
       "18        800\n",
       "19        800\n",
       "20        800\n",
       "21        800\n",
       "22       2000\n",
       "23        800\n",
       "24       1000\n",
       "25       1000\n",
       "26       1000\n",
       "27       1000\n",
       "28       1000\n",
       "29        400\n",
       "         ... \n",
       "19969    1200\n",
       "19970    1200\n",
       "19971    1500\n",
       "19972    1200\n",
       "19973    1200\n",
       "19974    1200\n",
       "19975    1600\n",
       "19976    1600\n",
       "19977    1600\n",
       "19978    1600\n",
       "19979    1600\n",
       "19980    1600\n",
       "19981    1200\n",
       "19982    2000\n",
       "19983    2000\n",
       "19984    2000\n",
       "19985    2000\n",
       "19986    2000\n",
       "19987       0\n",
       "19988     100\n",
       "19989     100\n",
       "19990     100\n",
       "19991     100\n",
       "19992     100\n",
       "19993     100\n",
       "19994     200\n",
       "19995     200\n",
       "19996     200\n",
       "19997     200\n",
       "19998     200\n",
       "Name: Value, dtype: int64"
      ]
     },
     "execution_count": 72,
     "metadata": {},
     "output_type": "execute_result"
    }
   ],
   "source": [
    "clean_value"
   ]
  },
  {
   "cell_type": "code",
   "execution_count": 73,
   "metadata": {
    "collapsed": true
   },
   "outputs": [],
   "source": [
    "jeopardy['Air Date'] = pd.to_datetime(jeopardy['Air Date'])"
   ]
  },
  {
   "cell_type": "code",
   "execution_count": 74,
   "metadata": {
    "collapsed": false
   },
   "outputs": [
    {
     "data": {
      "text/plain": [
       "0       2004-12-31\n",
       "1       2004-12-31\n",
       "2       2004-12-31\n",
       "3       2004-12-31\n",
       "4       2004-12-31\n",
       "5       2004-12-31\n",
       "6       2004-12-31\n",
       "7       2004-12-31\n",
       "8       2004-12-31\n",
       "9       2004-12-31\n",
       "10      2004-12-31\n",
       "11      2004-12-31\n",
       "12      2004-12-31\n",
       "13      2004-12-31\n",
       "14      2004-12-31\n",
       "15      2004-12-31\n",
       "16      2004-12-31\n",
       "17      2004-12-31\n",
       "18      2004-12-31\n",
       "19      2004-12-31\n",
       "20      2004-12-31\n",
       "21      2004-12-31\n",
       "22      2004-12-31\n",
       "23      2004-12-31\n",
       "24      2004-12-31\n",
       "25      2004-12-31\n",
       "26      2004-12-31\n",
       "27      2004-12-31\n",
       "28      2004-12-31\n",
       "29      2004-12-31\n",
       "           ...    \n",
       "19969   2009-05-14\n",
       "19970   2009-05-14\n",
       "19971   2009-05-14\n",
       "19972   2009-05-14\n",
       "19973   2009-05-14\n",
       "19974   2009-05-14\n",
       "19975   2009-05-14\n",
       "19976   2009-05-14\n",
       "19977   2009-05-14\n",
       "19978   2009-05-14\n",
       "19979   2009-05-14\n",
       "19980   2009-05-14\n",
       "19981   2009-05-14\n",
       "19982   2009-05-14\n",
       "19983   2009-05-14\n",
       "19984   2009-05-14\n",
       "19985   2009-05-14\n",
       "19986   2009-05-14\n",
       "19987   2009-05-14\n",
       "19988   2000-03-14\n",
       "19989   2000-03-14\n",
       "19990   2000-03-14\n",
       "19991   2000-03-14\n",
       "19992   2000-03-14\n",
       "19993   2000-03-14\n",
       "19994   2000-03-14\n",
       "19995   2000-03-14\n",
       "19996   2000-03-14\n",
       "19997   2000-03-14\n",
       "19998   2000-03-14\n",
       "Name: Air Date, dtype: datetime64[ns]"
      ]
     },
     "execution_count": 74,
     "metadata": {},
     "output_type": "execute_result"
    }
   ],
   "source": [
    "jeopardy['Air Date']"
   ]
  },
  {
   "cell_type": "code",
   "execution_count": 75,
   "metadata": {
    "collapsed": false
   },
   "outputs": [],
   "source": [
    "def pro_occur(r):\n",
    "    split_answer = r[\"Answer\"].split(\" \")\n",
    "    split_question = r[\"Question\"].split(\" \")\n",
    "    match_count = 0\n",
    "    # split_answer.remove('the') only remove the first one\n",
    "    split_answer = [a for a in split_answer if a!= 'the'] \n",
    "    if len(split_answer) == 0:\n",
    "        return 0\n",
    "    for item in split_answer:\n",
    "        if item in split_question:\n",
    "            match_count += 1\n",
    "        else:\n",
    "            match_count = match_count\n",
    "    re = match_count/len(split_answer)\n",
    "    return re\n"
   ]
  },
  {
   "cell_type": "code",
   "execution_count": 76,
   "metadata": {
    "collapsed": false
   },
   "outputs": [],
   "source": [
    "jeopardy[\"answer_in_question\"] = jeopardy.apply(pro_occur, axis=1)"
   ]
  },
  {
   "cell_type": "code",
   "execution_count": 77,
   "metadata": {
    "collapsed": false
   },
   "outputs": [
    {
     "data": {
      "text/plain": [
       "0.032522457513707075"
      ]
     },
     "execution_count": 77,
     "metadata": {},
     "output_type": "execute_result"
    }
   ],
   "source": [
    "jeopardy[\"answer_in_question\"].mean()"
   ]
  },
  {
   "cell_type": "code",
   "execution_count": 78,
   "metadata": {
    "collapsed": false
   },
   "outputs": [
    {
     "data": {
      "text/plain": [
       "Show Number                    int64\n",
       "Air Date              datetime64[ns]\n",
       "Round                         object\n",
       "Category                      object\n",
       "Value                         object\n",
       "Question                      object\n",
       "Answer                        object\n",
       "answer_in_question           float64\n",
       "question_overlap             float64\n",
       "clean_value                    int64\n",
       "dtype: object"
      ]
     },
     "execution_count": 78,
     "metadata": {},
     "output_type": "execute_result"
    }
   ],
   "source": [
    "jeopardy.dtypes"
   ]
  },
  {
   "cell_type": "code",
   "execution_count": 79,
   "metadata": {
    "collapsed": false
   },
   "outputs": [
    {
     "name": "stdout",
     "output_type": "stream",
     "text": [
      "0.578802970209\n"
     ]
    }
   ],
   "source": [
    "question_overlap = []\n",
    "terms_used = set()\n",
    "for i,r in jeopardy.iterrows():\n",
    "    split_question = r['Question'].split(\" \")\n",
    "    split_question = [a for a in split_question if len(a) > 5]\n",
    "    match_count = 0\n",
    "    for word in split_question:\n",
    "        if word in terms_used:\n",
    "            match_count += 1\n",
    "        terms_used.add(word)\n",
    "    if len(split_question) > 0:\n",
    "        match_count = match_count/len(split_question)\n",
    "    question_overlap.append(match_count)\n",
    "\n",
    "print(np.mean(question_overlap))\n",
    "jeopardy['question_overlap'] = question_overlap"
   ]
  },
  {
   "cell_type": "code",
   "execution_count": 81,
   "metadata": {
    "collapsed": false
   },
   "outputs": [],
   "source": [
    "def count_more(row):\n",
    "    value = 0\n",
    "    if row['clean_value'] > 800:\n",
    "        value = 1\n",
    "    return value\n",
    "jeopardy['high_value'] = jeopardy.apply(count_more,axis=1)"
   ]
  },
  {
   "cell_type": "code",
   "execution_count": 82,
   "metadata": {
    "collapsed": false
   },
   "outputs": [
    {
     "data": {
      "text/plain": [
       "0        0\n",
       "1        0\n",
       "2        0\n",
       "3        0\n",
       "4        0\n",
       "5        0\n",
       "6        0\n",
       "7        0\n",
       "8        0\n",
       "9        0\n",
       "10       0\n",
       "11       0\n",
       "12       0\n",
       "13       0\n",
       "14       0\n",
       "15       0\n",
       "16       0\n",
       "17       0\n",
       "18       0\n",
       "19       0\n",
       "20       0\n",
       "21       0\n",
       "22       1\n",
       "23       0\n",
       "24       1\n",
       "25       1\n",
       "26       1\n",
       "27       1\n",
       "28       1\n",
       "29       0\n",
       "        ..\n",
       "19969    1\n",
       "19970    1\n",
       "19971    1\n",
       "19972    1\n",
       "19973    1\n",
       "19974    1\n",
       "19975    1\n",
       "19976    1\n",
       "19977    1\n",
       "19978    1\n",
       "19979    1\n",
       "19980    1\n",
       "19981    1\n",
       "19982    1\n",
       "19983    1\n",
       "19984    1\n",
       "19985    1\n",
       "19986    1\n",
       "19987    0\n",
       "19988    0\n",
       "19989    0\n",
       "19990    0\n",
       "19991    0\n",
       "19992    0\n",
       "19993    0\n",
       "19994    0\n",
       "19995    0\n",
       "19996    0\n",
       "19997    0\n",
       "19998    0\n",
       "Name: high_value, dtype: int64"
      ]
     },
     "execution_count": 82,
     "metadata": {},
     "output_type": "execute_result"
    }
   ],
   "source": [
    "jeopardy['high_value']"
   ]
  },
  {
   "cell_type": "code",
   "execution_count": 88,
   "metadata": {
    "collapsed": false
   },
   "outputs": [],
   "source": [
    "def how_count(word):\n",
    "    low_count = 0\n",
    "    high_count = 0\n",
    "    for i,row in jeopardy.iterrows():\n",
    "        split_q = row['Question'].split(\" \")\n",
    "        if word in split_q:\n",
    "            if row['high_value'] == 1:\n",
    "                high_count += 1\n",
    "            else:\n",
    "                low_count += 1\n",
    "    return high_count,low_count\n",
    "comparison_terms = list(terms_used)[0:5]\n",
    "observed_expected =[]\n",
    "for word in comparison_terms:\n",
    "    re = how_count(word)\n",
    "    observed_expected.append(re)"
   ]
  },
  {
   "cell_type": "code",
   "execution_count": 89,
   "metadata": {
    "collapsed": false
   },
   "outputs": [
    {
     "data": {
      "text/plain": [
       "[(0, 2), (0, 1), (1, 0), (1, 0), (1, 1)]"
      ]
     },
     "execution_count": 89,
     "metadata": {},
     "output_type": "execute_result"
    }
   ],
   "source": [
    "observed_expected"
   ]
  },
  {
   "cell_type": "code",
   "execution_count": 92,
   "metadata": {
    "collapsed": false
   },
   "outputs": [],
   "source": [
    "from scipy.stats import chisquare\n",
    "high_value_count = len([a for a in jeopardy['high_value'] if a ==1])\n",
    "low_value_count = len([a for a in jeopardy['high_value'] if a ==0])\n",
    "chi_squared = []\n",
    "for lis in observed_expected:\n",
    "    total = sum(lis)\n",
    "    total_prop = total/jeopardy.shape[0]\n",
    "    excepted_high = total_prop*high_value_count\n",
    "    excepted_low = total_prop*low_value_count\n",
    "    re = chisquare(lis,[excepted_high,excepted_low])\n",
    "    chi_squared.append(re)"
   ]
  },
  {
   "cell_type": "code",
   "execution_count": null,
   "metadata": {
    "collapsed": true
   },
   "outputs": [],
   "source": []
  }
 ],
 "metadata": {
  "kernelspec": {
   "display_name": "Python 3",
   "language": "python",
   "name": "python3"
  },
  "language_info": {
   "codemirror_mode": {
    "name": "ipython",
    "version": 3
   },
   "file_extension": ".py",
   "mimetype": "text/x-python",
   "name": "python",
   "nbconvert_exporter": "python",
   "pygments_lexer": "ipython3",
   "version": "3.4.3"
  }
 },
 "nbformat": 4,
 "nbformat_minor": 0
}
