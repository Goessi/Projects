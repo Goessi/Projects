{
 "cells": [
  {
   "cell_type": "code",
   "execution_count": 20,
   "metadata": {
    "collapsed": false
   },
   "outputs": [
    {
     "ename": "NameError",
     "evalue": "name 'races' is not defined",
     "output_type": "error",
     "traceback": [
      "\u001b[1;31m\u001b[0m",
      "\u001b[1;31mNameError\u001b[0mTraceback (most recent call last)",
      "\u001b[1;32m<ipython-input-20-1a54b886bf17>\u001b[0m in \u001b[0;36m<module>\u001b[1;34m()\u001b[0m\n\u001b[0;32m     63\u001b[0m \u001b[0mrace\u001b[0m \u001b[1;33m=\u001b[0m \u001b[1;33m[\u001b[0m\u001b[0mrow\u001b[0m\u001b[1;33m[\u001b[0m\u001b[1;36m7\u001b[0m\u001b[1;33m]\u001b[0m \u001b[1;32mfor\u001b[0m \u001b[0mrow\u001b[0m \u001b[1;32min\u001b[0m \u001b[0mdata\u001b[0m\u001b[1;33m]\u001b[0m\u001b[1;33m\u001b[0m\u001b[0m\n\u001b[0;32m     64\u001b[0m \u001b[0mhomicide_race_counts\u001b[0m \u001b[1;33m=\u001b[0m \u001b[1;33m{\u001b[0m\u001b[1;33m}\u001b[0m\u001b[1;33m\u001b[0m\u001b[0m\n\u001b[1;32m---> 65\u001b[1;33m \u001b[1;32mfor\u001b[0m \u001b[0mi\u001b[0m\u001b[1;33m,\u001b[0m\u001b[0mrace\u001b[0m \u001b[1;32min\u001b[0m \u001b[0menumerate\u001b[0m\u001b[1;33m(\u001b[0m\u001b[0mraces\u001b[0m\u001b[1;33m)\u001b[0m\u001b[1;33m:\u001b[0m\u001b[1;33m\u001b[0m\u001b[0m\n\u001b[0m\u001b[0;32m     66\u001b[0m     \u001b[1;32mif\u001b[0m \u001b[0mrace\u001b[0m \u001b[1;32mnot\u001b[0m \u001b[1;32min\u001b[0m \u001b[0mhomicide_race_counts\u001b[0m\u001b[1;33m:\u001b[0m\u001b[1;33m\u001b[0m\u001b[0m\n\u001b[0;32m     67\u001b[0m         \u001b[0mhomicide_race_counts\u001b[0m\u001b[1;33m[\u001b[0m\u001b[0mrace\u001b[0m\u001b[1;33m]\u001b[0m \u001b[1;33m=\u001b[0m \u001b[1;36m1\u001b[0m\u001b[1;33m\u001b[0m\u001b[0m\n",
      "\u001b[1;31mNameError\u001b[0m: name 'races' is not defined"
     ]
    }
   ],
   "source": [
    "import csv\n",
    "file = open('guns.csv')\n",
    "file = csv.reader(file)\n",
    "data = list(file)\n",
    "data[:5]\n",
    "headers = data[0]\n",
    "data = data[1:]\n",
    "headers\n",
    "data[0:5]\n",
    "years = []\n",
    "for item in data:\n",
    "    year = item[1]\n",
    "    years.append(year)\n",
    "year_counts = {}\n",
    "for y in years:\n",
    "    if y not in year_counts:\n",
    "        year_counts[y]=1\n",
    "    else:\n",
    "        year_counts[y] += 1\n",
    "year_counts\n",
    "import datetime\n",
    "dates = [datetime.datetime(year = int(row[1]),month =int(row[2]),day = 1)for row in data]\n",
    "dates[:5]\n",
    "\n",
    "date_counts = {}\n",
    "for item in dates:\n",
    "    if item not in date_counts:\n",
    "        date_counts[item] = 1\n",
    "    else:\n",
    "        date_counts[item] += 1\n",
    "date_counts\n",
    "\n",
    "sex_counts = {}\n",
    "sex = [item[5] for item in data]\n",
    "sex\n",
    "race_counts = {}\n",
    "race = [item[7] for item in data]\n",
    "race\n",
    "for people in data:\n",
    "    if people[5] not in sex_counts:\n",
    "        sex_counts[people[5]] = 1\n",
    "    else:\n",
    "        sex_counts[people[5]] += 1\n",
    "sex_counts\n",
    "\n",
    "for people in data:\n",
    "    if people[7] in race_counts:\n",
    "        race_counts[people[7]] += 1\n",
    "    else:\n",
    "        race_counts[people[7]] = 1\n",
    "race_counts\n",
    "\n",
    "census = list(csv.reader(open('census.csv')))\n",
    "census\n",
    "\n",
    "mapping = {'Asian/Pacific Islander':674625+15159516,'Black':40250635,'Hispanic':44618105,'Native American/Native Alaskan':3739506,'White':197318956}\n",
    "race_per_hundredk = {}\n",
    "for p,v in race_counts.items():\n",
    "    race_per_hundredk[p] = v*100000/mapping[p]\n",
    "race_per_hundredk\n",
    "\n",
    "intents = [row[3] for row in data]\n",
    "race = [row[7] for row in data]\n",
    "homicide_race_counts = {}\n",
    "for i,race in enumerate(races):\n",
    "    if race not in homicide_race_counts:\n",
    "        homicide_race_counts[race] = 1\n",
    "    else:\n",
    "        homicide_race_counts[race] += 1\n",
    "homicide_race_counts\n",
    "    \n",
    "    "
   ]
  }
 ],
 "metadata": {
  "kernelspec": {
   "display_name": "Python 3",
   "language": "python",
   "name": "python3"
  },
  "language_info": {
   "codemirror_mode": {
    "name": "ipython",
    "version": 3
   },
   "file_extension": ".py",
   "mimetype": "text/x-python",
   "name": "python",
   "nbconvert_exporter": "python",
   "pygments_lexer": "ipython3",
   "version": "3.4.3"
  }
 },
 "nbformat": 4,
 "nbformat_minor": 0
}
