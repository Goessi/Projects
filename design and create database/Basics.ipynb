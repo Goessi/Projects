{
 "cells": [
  {
   "cell_type": "code",
   "execution_count": 1,
   "metadata": {
    "collapsed": true
   },
   "outputs": [],
   "source": [
    "import pandas as pd\n",
    "import sqlite3\n",
    "pd.set_option('max_columns', 180)\n",
    "pd.set_option('max_rows', 200000)\n",
    "pd.set_option('max_colwidth', 5000)"
   ]
  },
  {
   "cell_type": "code",
   "execution_count": 2,
   "metadata": {
    "collapsed": false
   },
   "outputs": [],
   "source": [
    "game_log = pd.read_csv('game_log.csv',low_memory=False)\n",
    "park_codes = pd.read_csv('park_codes.csv',low_memory=False)\n",
    "person_codes = pd.read_csv('person_codes.csv',low_memory=False)\n",
    "team_codes = pd.read_csv('team_codes.csv',low_memory=False)"
   ]
  },
  {
   "cell_type": "code",
   "execution_count": null,
   "metadata": {
    "collapsed": true
   },
   "outputs": [],
   "source": [
    "def run_command(c):\n",
    "    with sqlite3.connect('mlb.db') as conn:\n",
    "        conn.execute('PRAGMA foreign_keys = ON;')\n",
    "        conn.isolation_level = None\n",
    "        return conn.execute(c)\n",
    "def run_query(q):\n",
    "    with sqlite3.connect('mlb.db') as conn:\n",
    "        return pd.read_sql(q,conn)"
   ]
  },
  {
   "cell_type": "code",
   "execution_count": null,
   "metadata": {
    "collapsed": false
   },
   "outputs": [],
   "source": [
    "with sqlite3.connect('mlb.db') as conn:\n",
    "    conn.execute(\"DROP TABLE IF EXISTS {};\".format(game_log))\n",
    "    game_log.to_sql('game_log',conn,index = False)\n",
    "   "
   ]
  },
  {
   "cell_type": "code",
   "execution_count": null,
   "metadata": {
    "collapsed": false
   },
   "outputs": [],
   "source": [
    "with sqlite3.connect('mlb.db') as conn:\n",
    "    conn.execute(\"DROP TABLE IF EXISTS {};\".format(park_codes))\n",
    "    park_codes.to_sql('park_codes',conn,index = False)\n",
    "    \n",
    "with sqlite3.connect('mlb.db') as conn:\n",
    "    conn.execute(\"DROP TABLE IF EXISTS {}:\".format(person_codes))\n",
    "    person_codes.to_sql('person_codes',conn,index = False)\n",
    "    \n",
    "with sqlite3.connect('mlb.db') as conn:\n",
    "    conn.execute(\"DROP TABLE IF EXISTS {}:\".formate(team_codes))\n",
    "    team_codes.to_sql('team_codes',conn,index = False)"
   ]
  },
  {
   "cell_type": "code",
   "execution_count": null,
   "metadata": {
    "collapsed": false
   },
   "outputs": [],
   "source": [
    "c1 = '''CREATE TABLE person(\n",
    "                            person_id TEXT PRIMARY KEY,\n",
    "                            first_name TEXT,\n",
    "                            last_name TEXT);'''\n",
    "c2 = '''INSERT OR IGNORE INTO person SELECT * FROM person_codes;'''\n",
    "q1 = '''SELECT * FROM person LIMIT 5;'''\n",
    "run_command(c1)\n",
    "run_command(c2)\n",
    "run_query(q1)"
   ]
  },
  {
   "cell_type": "code",
   "execution_count": null,
   "metadata": {
    "collapsed": false
   },
   "outputs": [],
   "source": [
    "c1 = '''CREATE TABLE league(\n",
    "                            league_id TEXT PRIMARY KEY,\n",
    "                            league_name TEXT);'''\n",
    "c2 = '''INSERT OR IGNORE INTO league \n",
    "        VALUES \n",
    "                (\"NL\", \"National League\"),\n",
    "                (\"AL\", \"American League\"),\n",
    "                (\"AA\", \"American Association\"),\n",
    "                (\"FL\", \"Federal League\"),\n",
    "                (\"PL\", \"Players League\"),\n",
    "                (\"UA\", \"Union Association\")\n",
    ";'''\n",
    "q = '''SELECT * FROM league LIMIT 5;'''\n",
    "run_command(c1)\n",
    "run_command(c2)\n",
    "run_query(q)"
   ]
  },
  {
   "cell_type": "code",
   "execution_count": null,
   "metadata": {
    "collapsed": true
   },
   "outputs": [],
   "source": []
  }
 ],
 "metadata": {
  "kernelspec": {
   "display_name": "Python 3",
   "language": "python",
   "name": "python3"
  },
  "language_info": {
   "codemirror_mode": {
    "name": "ipython",
    "version": 3
   },
   "file_extension": ".py",
   "mimetype": "text/x-python",
   "name": "python",
   "nbconvert_exporter": "python",
   "pygments_lexer": "ipython3",
   "version": "3.4.3"
  }
 },
 "nbformat": 4,
 "nbformat_minor": 2
}
